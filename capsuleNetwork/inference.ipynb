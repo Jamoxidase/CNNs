{
 "cells": [
  {
   "cell_type": "markdown",
   "metadata": {},
   "source": [
    "Run the following cells, and provide the path to your images on the final line of the notebook."
   ]
  },
  {
   "cell_type": "code",
   "execution_count": 74,
   "metadata": {},
   "outputs": [],
   "source": [
    "from torchvision.transforms import ToTensor, Normalize, Compose\n",
    "import matplotlib.pyplot as plt\n",
    "import torch\n",
    "import cv2"
   ]
  },
  {
   "cell_type": "code",
   "execution_count": 73,
   "metadata": {},
   "outputs": [
    {
     "data": {
      "text/plain": [
       "<All keys matched successfully>"
      ]
     },
     "execution_count": 73,
     "metadata": {},
     "output_type": "execute_result"
    }
   ],
   "source": [
    "# Instantiate the model\n",
    "import sys\n",
    "sys.path.insert(0, './model')\n",
    "from capsuleNet import CapsNet\n",
    "\n",
    "capsule_net = CapsNet()\n",
    "\n",
    "# Load the saved model parameters\n",
    "model_path = \"model/capNet.pth\"\n",
    "model_parameters = torch.load(model_path, map_location=torch.device('cpu'))\n",
    "\n",
    "# Apply parameters to model\n",
    "capsule_net.load_state_dict(model_parameters)"
   ]
  },
  {
   "cell_type": "code",
   "execution_count": 75,
   "metadata": {},
   "outputs": [
    {
     "name": "stdout",
     "output_type": "stream",
     "text": [
      "The predicted class is: 5\n"
     ]
    },
    {
     "data": {
      "image/png": "[encoded data removed]",
      "text/plain": [
       "<Figure size 640x480 with 1 Axes>"
      ]
     },
     "metadata": {},
     "output_type": "display_data"
    }
   ],
   "source": [
    "\n",
    "\n",
    "# Define the transformation\n",
    "transform = Compose([ToTensor(), Normalize((0.1307,), (0.3081,))])\n",
    "\n",
    "def resize_to_28x28(img):\n",
    "    # Resize the image to 28x28 pixels\n",
    "    # Invert the colors of the image\n",
    "    img = cv2.bitwise_not(img)\n",
    "    img = cv2.resize(img, (28, 28))\n",
    "    return img\n",
    "\n",
    "def run_inference(image_path):\n",
    "    # Load the image\n",
    "    img = cv2.imread(image_path, cv2.IMREAD_GRAYSCALE)\n",
    "\n",
    "    # Apply a threshold to the image\n",
    "    _, img = cv2.threshold(img, 150, 255, cv2.THRESH_BINARY)\n",
    "\n",
    "    # Resize the image to 28x28\n",
    "    img = resize_to_28x28(img)\n",
    "\n",
    "    # Convert the image to a PyTorch tensor and normalize it\n",
    "    img_tsr = transform(img)\n",
    "   \n",
    "    # Add an extra dimension for the batch size\n",
    "    img_tsr = img_tsr.unsqueeze(0)\n",
    "\n",
    "    # Run the model on the tensor\n",
    "    output, _, _ = capsule_net(img_tsr)\n",
    "\n",
    "    # Get the prediction\n",
    "    prediction= output.norm(dim=2).argmax(dim=1)[0][0]\n",
    "    print(f\"The predicted class is: {prediction}\")\n",
    "\n",
    "    # Visualize the image\n",
    "    plt.imshow(img, cmap='gray')\n",
    "    plt.show()\n",
    "# Run inference on an image\n",
    "run_inference(\"images/5.png\")  #<----- relative path to your cropped image"
   ]
  },
  {
   "cell_type": "code",
   "execution_count": null,
   "metadata": {},
   "outputs": [],
   "source": []
  }
 ],
 "metadata": {
  "kernelspec": {
   "display_name": "base",
   "language": "python",
   "name": "python3"
  },
  "language_info": {
   "codemirror_mode": {
    "name": "ipython",
    "version": 3
   },
   "file_extension": ".py",
   "mimetype": "text/x-python",
   "name": "python",
   "nbconvert_exporter": "python",
   "pygments_lexer": "ipython3",
   "version": "3.11.5"
  }
 },
 "nbformat": 4,
 "nbformat_minor": 2
}
